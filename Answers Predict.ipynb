{
 "cells": [
  {
   "cell_type": "markdown",
   "metadata": {},
   "source": [
    "# ANSWERS PREDICT"
   ]
  },
  {
   "cell_type": "code",
   "execution_count": null,
   "metadata": {},
   "outputs": [],
   "source": [
    "%matplotlib inline\n",
    "\n",
    "import os\n",
    "import sys\n",
    "import certifi\n",
    "import unicodedata\n",
    "import pandas as pd\n",
    "import numpy as np\n",
    "import re\n",
    "import csv\n",
    "import math\n",
    "import requests\n",
    "import time\n",
    "import random\n",
    "import scipy.stats as stats\n",
    "import matplotlib.pyplot as plt\n",
    "import gensim\n",
    "import keras\n",
    "import h5py\n",
    "import pydot\n",
    "import os\n",
    "import sklearn\n",
    "import operator\n",
    "\n",
    "from keras.layers.merge import Add\n",
    "from keras.preprocessing.text import Tokenizer\n",
    "from keras.preprocessing.sequence import pad_sequences\n",
    "from keras.utils import to_categorical, plot_model\n",
    "from keras.layers import Conv2D, MaxPooling2D, Embedding, Merge, LSTM, Bidirectional, GlobalMaxPooling1D, Dot, Lambda, Dropout\n",
    "from keras.layers import Average, dot,Permute, Lambda,Layer, add, Concatenate, Dense, LSTM, Input, concatenate, merge, Add, Reshape, Flatten\n",
    "from keras.models import Model, load_model\n",
    "from keras.models import Sequential\n",
    "from numpy import newaxis\n",
    "from keras.models import model_from_json\n",
    "from keras import callbacks\n",
    "from keras.callbacks import ModelCheckpoint\n",
    "from collections import defaultdict\n",
    "from scipy.stats.stats import pearsonr\n",
    "from keras import backend as K\n",
    "from sklearn.model_selection import StratifiedKFold\n",
    "\n",
    "K.os.environ[\"CUDA_DEVICE_ORDER\"]=\"PCI_BUS_ID\"   # see issue #152\n",
    "K.os.environ[\"CUDA_VISIBLE_DEVICES\"]=\"0\""
   ]
  },
  {
   "cell_type": "code",
   "execution_count": null,
   "metadata": {},
   "outputs": [],
   "source": [
    "#FUNCTON FOR MATRIX MULTIPLICATION\n",
    "class OuterProduct(Layer):\n",
    "    def __init__(self,name=\"OuterProduct\",**kwargs):\n",
    "        super().__init__()\n",
    "\n",
    "    def build(self,input_shape):\n",
    "        self.length = input_shape[0][1]\n",
    "        super().build(input_shape)\n",
    "\n",
    "    def call(self,x):\n",
    "        a, b = x\n",
    "#        print(a.shape,b.shape,a[:, newaxis, :].shape,b[:, :, newaxis].shape)\n",
    "        outerProduct = a[:, newaxis, :] * b[:, :, newaxis]\n",
    " #       print(outerProduct.shape)\n",
    "        outerProduct = K.sum(outerProduct,axis=-1)\n",
    "  #      print(outerProduct.shape)\n",
    "\n",
    "        return outerProduct\n",
    "\n",
    "    def compute_output_shape(self, input_shape):\n",
    "        return (input_shape[0][0], input_shape[0][1], input_shape[0][1])\n",
    "\n",
    "    \n",
    "#SUBSTITUTE WORD WITH INDEX\n",
    "def replace_matched_items(array, dictionary):\n",
    "       for lst in array:\n",
    "              for ind, item in enumerate(lst):\n",
    "                          lst[ind] = dictionary.get(item, item)\n",
    "                        \n",
    "#CLEAN ZEROS\n",
    "def cleaningZero(array):\n",
    "       for elem in array:\n",
    "            while 0 in elem: \n",
    "                elem.remove(0)\n",
    "                \n",
    "\n",
    "\n",
    "target = 25\n",
    "\n",
    "#SAVE ANSWER INDEXS\n",
    "def getAnswerID(pred):\n",
    "    x={}\n",
    "    for i in range(0,len(pred)):\n",
    "        x[i]=float(pred[i])\n",
    "    sorted_x = sorted(x.items(), key=operator.itemgetter(1))\n",
    "    sorted_x.reverse()\n",
    "    return sorted_x[0:target]\n",
    "\n",
    "def getAnswer(resp,test):\n",
    "    lst = [item[0] for item in resp]\n",
    "    ans = []\n",
    "    for i in lst:\n",
    "        ans.append(test[i])\n",
    "    return ans\n",
    "\n",
    "#SPLIT ANSWERS\n",
    "def printAnswer(a):\n",
    "    answers=[]\n",
    "    \n",
    "    for j in  range(0,len(a)):\n",
    "        sentence=\"\"\n",
    "        for i in a[j]:\n",
    "            sentence=sentence+\" \"+i\n",
    "        answers.append(sentence)\n",
    "    return answers"
   ]
  },
  {
   "cell_type": "markdown",
   "metadata": {},
   "source": [
    "# LOAD TOKENIZER SENTENCES"
   ]
  },
  {
   "cell_type": "code",
   "execution_count": null,
   "metadata": {},
   "outputs": [],
   "source": [
    "#LOAD TOKENIZER FILES\n",
    "def loadSentences(filename):\n",
    "    array = []\n",
    "    with open(filename) as f:\n",
    "        ar = []\n",
    "        for line in f:\n",
    "            if (str(line) != \"[\\n\") & (str(line) != \"]\\n\"):\n",
    "                ar.append(re.sub('\\n$', '', line))\n",
    "                #print (line)\n",
    "            if (str(line) == \"]\\n\"):\n",
    "                array.append(ar)\n",
    "                ar = []\n",
    "            \n",
    "    f.close()\n",
    "    return array\n",
    "\n",
    "#ANSWERING TEST \n",
    "original_A_test = loadSentences(\"tokenizer/tokenizerAnswer.txt\")\n",
    "A_test = loadSentences(\"tokenizer/tokenizerAnswer.txt\")\n",
    "\n",
    "#QUESTION TEST--> 3 QUESTIONS\n",
    "original_Q_test = loadSentences(\"tokenizer/tokenizerQTest.txt\")\n",
    "Q_test = loadSentences(\"tokenizer/tokenizerQTest.txt\")"
   ]
  },
  {
   "cell_type": "markdown",
   "metadata": {},
   "source": [
    "# LOAD KERAS MODELS"
   ]
  },
  {
   "cell_type": "code",
   "execution_count": null,
   "metadata": {},
   "outputs": [],
   "source": [
    "#CONV2D - MAXPOOLING MODEL\n",
    "#product = load_model(\"keras_models/Q_QA_Conv2D_MaxPool.h5\", custom_objects={'OuterProduct': OuterProduct})\n",
    "\n",
    "#AVERAGE BI-LSTM MODEL\n",
    "average = load_model(\"keras_models/Q_QA_Avg.h5\", custom_objects={'OuterProduct': OuterProduct})"
   ]
  },
  {
   "cell_type": "markdown",
   "metadata": {},
   "source": [
    "# LOAD WORD2VEC MODEL"
   ]
  },
  {
   "cell_type": "code",
   "execution_count": null,
   "metadata": {},
   "outputs": [],
   "source": [
    "#LOAD GENSIM MODEL WITH WORD2VEC\n",
    "model_W2C = gensim.models.Word2Vec.load('model/mymodelFull')\n",
    "\n",
    "#vocab - uso lo stesso vocab\n",
    "vocab = dict([(k, v.index) for k, v in model_W2C.wv.vocab.items()])"
   ]
  },
  {
   "cell_type": "markdown",
   "metadata": {},
   "source": [
    "# TEST QUESTION 1\n",
    "Come posso pagare la bolletta?"
   ]
  },
  {
   "cell_type": "code",
   "execution_count": null,
   "metadata": {},
   "outputs": [],
   "source": [
    "#GET QUESTION TEST NUMBER 1\n",
    "Q_test=original_Q_test[0]\n",
    "Q_test=[Q_test]*len(A_test)"
   ]
  },
  {
   "cell_type": "code",
   "execution_count": null,
   "metadata": {},
   "outputs": [],
   "source": [
    "#REPLACE A_TEST AND Q_TEST WITH VOCAB INDEX\n",
    "replace_matched_items(A_test,vocab)\n",
    "cleaningZero(A_test)\n",
    "replace_matched_items(Q_test,vocab)\n",
    "cleaningZero(Q_test)"
   ]
  },
  {
   "cell_type": "code",
   "execution_count": null,
   "metadata": {},
   "outputs": [],
   "source": [
    "# pad documents with original max len\n",
    "max_len = max(len(max(A_test,key=len)), len(max(Q_test,key=len)))\n",
    "max_len=580\n",
    "Q_test_padded = keras.preprocessing.sequence.pad_sequences(Q_test, padding='post', maxlen = max_len)\n",
    "A_test_padded = keras.preprocessing.sequence.pad_sequences(A_test, padding='post', maxlen = max_len)\n",
    "print(Q_test_padded.shape, A_test_padded.shape)"
   ]
  },
  {
   "cell_type": "code",
   "execution_count": null,
   "metadata": {},
   "outputs": [],
   "source": [
    "#CONV2D MAXPOOLING FOR QUESTION 1\n",
    "prodQ1 = product.predict([Q_test_padded,A_test_padded])\n",
    "ansID = getAnswerID(prodQ1)\n",
    "AnswersConvQ1 = getAnswer(ansID,original_A_test)"
   ]
  },
  {
   "cell_type": "code",
   "execution_count": null,
   "metadata": {},
   "outputs": [],
   "source": [
    "#AVERAGE PREDICT FOR QUESTION 1\n",
    "avgQ1 = average.predict([Q_test_padded,A_test_padded])\n",
    "ansID = getAnswerID(avgQ1)\n",
    "AnswersAVGQ1= getAnswer(ansID,original_A_test)"
   ]
  },
  {
   "cell_type": "code",
   "execution_count": null,
   "metadata": {},
   "outputs": [],
   "source": [
    "#SAVE CONV2D MAXPOOLING ANSWERS IN A TXT FILE\n",
    "Answers=printAnswer(AnswersConvQ1)\n",
    "f = open(\"Results/Q+QA_convutional_maxpooling\", \"w\")\n",
    "f.write(\"----ANSWERS FOR QUESTION 1---\\n\")\n",
    "f.write(\"\\n\".join(map(lambda x: str(x), Answers)))"
   ]
  },
  {
   "cell_type": "code",
   "execution_count": null,
   "metadata": {},
   "outputs": [],
   "source": [
    "#SAVE AVERAGE ANSWERS IN A TXT FILE\n",
    "Answers=printAnswer(AnswersAVGQ1)\n",
    "g = open(\"Results/Q+QA_average\", \"w\")\n",
    "g.write(\"----ANSWERS FOR QUESTION 1---\\n\")\n",
    "g.write(\"\\n\".join(map(lambda x: str(x), Answers)))"
   ]
  },
  {
   "cell_type": "markdown",
   "metadata": {},
   "source": [
    "# TEST QUESTION 2\n",
    "Cos'è il deposito cauzionale?"
   ]
  },
  {
   "cell_type": "code",
   "execution_count": null,
   "metadata": {},
   "outputs": [],
   "source": [
    "#GET QUESTION TEST NUMBER 1\n",
    "Q_test=original_Q_test[1]\n",
    "Q_test=[Q_test]*len(A_test)\n",
    "print(len(Q_test))"
   ]
  },
  {
   "cell_type": "code",
   "execution_count": null,
   "metadata": {},
   "outputs": [],
   "source": [
    "#REPLACE A_TEST AND Q_TEST WITH VOCAB INDEX\n",
    "replace_matched_items(A_test,vocab)\n",
    "cleaningZero(A_test)\n",
    "replace_matched_items(Q_test,vocab)\n",
    "cleaningZero(Q_test)"
   ]
  },
  {
   "cell_type": "code",
   "execution_count": null,
   "metadata": {},
   "outputs": [],
   "source": [
    "# pad documents with original max len\n",
    "#max_len = max(len(max(A_test,key=len)), len(max(Q_test,key=len)))\n",
    "Q_test_padded = keras.preprocessing.sequence.pad_sequences(Q_test, padding='post', maxlen = max_len)\n",
    "A_test_padded = keras.preprocessing.sequence.pad_sequences(A_test, padding='post', maxlen = max_len)\n",
    "print(Q_test_padded.shape, A_test_padded.shape)"
   ]
  },
  {
   "cell_type": "code",
   "execution_count": null,
   "metadata": {},
   "outputs": [],
   "source": [
    "#CONV2D MAXPOOLING FOR QUESTION 2\n",
    "prodQ2 = product.predict([Q_test_padded,A_test_padded])\n",
    "ansID = getAnswerID(prodQ2)\n",
    "AnswersConvQ2 = getAnswer(ansID,original_A_test)"
   ]
  },
  {
   "cell_type": "code",
   "execution_count": null,
   "metadata": {},
   "outputs": [],
   "source": [
    "#AVERAGE PREDICT FOR QUESTION 2\n",
    "avgQ2 = average.predict([Q_test_padded,A_test_padded])\n",
    "ansID = getAnswerID(avgQ1)\n",
    "AnswersAVGQ2= getAnswer(ansID,original_A_test)"
   ]
  },
  {
   "cell_type": "code",
   "execution_count": null,
   "metadata": {},
   "outputs": [],
   "source": [
    "#SAVE CONV2D MAXPOOLING ANSWERS IN A TXT FILE\n",
    "Answers=printAnswer(AnswersConvQ2)\n",
    "f.write(\"\\n----ANSWERS FOR QUESTION 2---\\n\")\n",
    "f.write(\"\\n\".join(map(lambda x: str(x), Answers)))"
   ]
  },
  {
   "cell_type": "code",
   "execution_count": null,
   "metadata": {},
   "outputs": [],
   "source": [
    "#SAVE AVERAGE ANSWERS IN A TXT FILE\n",
    "Answers=printAnswer(AnswersAVGQ2)\n",
    "g.write(\"\\n----ANSWERS FOR QUESTION 2---\\n\")\n",
    "g.write(\"\\n\".join(map(lambda x: str(x), Answers)))"
   ]
  },
  {
   "cell_type": "markdown",
   "metadata": {},
   "source": [
    "# TEST QUESTION 3\n",
    "Ho bisogno di aiuto"
   ]
  },
  {
   "cell_type": "code",
   "execution_count": null,
   "metadata": {},
   "outputs": [],
   "source": [
    "#GET QUESTION TEST NUMBER 1\n",
    "Q_test=original_Q_test[2]\n",
    "Q_test=[Q_test]*len(A_test)\n",
    "print(len(Q_test))"
   ]
  },
  {
   "cell_type": "code",
   "execution_count": null,
   "metadata": {},
   "outputs": [],
   "source": [
    "#REPLACE A_TEST AND Q_TEST WITH VOCAB INDEX\n",
    "replace_matched_items(A_test,vocab)\n",
    "cleaningZero(A_test)\n",
    "replace_matched_items(Q_test,vocab)\n",
    "cleaningZero(Q_test)"
   ]
  },
  {
   "cell_type": "code",
   "execution_count": null,
   "metadata": {},
   "outputs": [],
   "source": [
    "# pad documents with original max len\n",
    "#max_len=580\n",
    "#max_len = max(len(max(A_test,key=len)), len(max(Q_test,key=len)))\n",
    "Q_test_padded = keras.preprocessing.sequence.pad_sequences(Q_test, padding='post', maxlen = max_len)\n",
    "A_test_padded = keras.preprocessing.sequence.pad_sequences(A_test, padding='post', maxlen = max_len)\n",
    "print(Q_test_padded.shape, A_test_padded.shape)"
   ]
  },
  {
   "cell_type": "code",
   "execution_count": null,
   "metadata": {},
   "outputs": [],
   "source": [
    "# CONV2D MAXPOOLING FOR QUESTION 3\n",
    "prodQ3 = product.predict([Q_test_padded,A_test_padded])\n",
    "ansID = getAnswerID(prodQ3)\n",
    "AnswersConvQ3 = getAnswer(ansID,original_A_test)"
   ]
  },
  {
   "cell_type": "code",
   "execution_count": null,
   "metadata": {},
   "outputs": [],
   "source": [
    "#AVERAGE PREDICT FOR QUESTION 3\n",
    "avgQ3 = average.predict([Q_test_padded,A_test_padded])\n",
    "ansID = getAnswerID(avgQ3)\n",
    "AnswersAVGQ3= getAnswer(ansID,original_A_test)"
   ]
  },
  {
   "cell_type": "code",
   "execution_count": null,
   "metadata": {},
   "outputs": [],
   "source": [
    "#SAVE CONV2D MAXPOOLING ANSWERS IN A TXT FILE AND CLOSE CONNECTION\n",
    "Answers=printAnswer(AnswersConvQ3)\n",
    "f.write(\"\\n----ANSWERS FOR QUESTION 3---\\n\")\n",
    "f.write(\"\\n\".join(map(lambda x: str(x), Answers)))\n",
    "f.close()"
   ]
  },
  {
   "cell_type": "code",
   "execution_count": null,
   "metadata": {},
   "outputs": [],
   "source": [
    "#SAVE AVERAGE ANSWERS IN A TXT FILE AND CLOSE CONNECTION\n",
    "Answers=printAnswer(AnswersAVGQ3)\n",
    "g.write(\"\\n----ANSWERS FOR QUESTION 3---\\n\")\n",
    "g.write(\"\\n\".join(map(lambda x: str(x), Answers)))\n",
    "g.close()"
   ]
  },
  {
   "cell_type": "markdown",
   "metadata": {},
   "source": [
    "# EXPERIMENTS"
   ]
  },
  {
   "cell_type": "code",
   "execution_count": null,
   "metadata": {},
   "outputs": [],
   "source": [
    "#domanda1=['Ho','rilevato','un','consumo','anomalo'] #OK\n",
    "#domanda2=['Qual','è','il','costo','acqua'] #OK\n",
    "domanda3=['Come','posso','richiedere','il','bonus','idrico']"
   ]
  },
  {
   "cell_type": "code",
   "execution_count": null,
   "metadata": {},
   "outputs": [],
   "source": [
    "#GET QUESTION TEST NUMBER 1\n",
    "Q_test=domanda3\n",
    "Q_test=[Q_test]*len(A_test)\n",
    "print(len(Q_test))"
   ]
  },
  {
   "cell_type": "code",
   "execution_count": null,
   "metadata": {},
   "outputs": [],
   "source": [
    "#REPLACE A_TEST AND Q_TEST WITH VOCAB INDEX\n",
    "replace_matched_items(A_test,vocab)\n",
    "cleaningZero(A_test)\n",
    "replace_matched_items(Q_test,vocab)\n",
    "cleaningZero(Q_test)"
   ]
  },
  {
   "cell_type": "code",
   "execution_count": null,
   "metadata": {},
   "outputs": [],
   "source": [
    "# pad documents with original max len\n",
    "max_len = max(len(max(A_test,key=len)), len(max(Q_test,key=len)))\n",
    "Q_test_padded = keras.preprocessing.sequence.pad_sequences(Q_test, padding='post', maxlen = max_len)\n",
    "A_test_padded = keras.preprocessing.sequence.pad_sequences(A_test, padding='post', maxlen = max_len)\n",
    "print(Q_test_padded.shape, A_test_padded.shape)"
   ]
  },
  {
   "cell_type": "code",
   "execution_count": null,
   "metadata": {},
   "outputs": [],
   "source": [
    "#CONV2D MAXPOOLING FOR QUESTION 3\n",
    "prodQ = product.predict([Q_test_padded,A_test_padded])\n",
    "ansID = getAnswerID(prodQ)\n",
    "Answers = getAnswer(ansID,original_A_test)"
   ]
  },
  {
   "cell_type": "code",
   "execution_count": null,
   "metadata": {},
   "outputs": [],
   "source": [
    "ansID"
   ]
  },
  {
   "cell_type": "code",
   "execution_count": null,
   "metadata": {},
   "outputs": [],
   "source": [
    "print(Answers[0])"
   ]
  },
  {
   "cell_type": "code",
   "execution_count": null,
   "metadata": {},
   "outputs": [],
   "source": []
  }
 ],
 "metadata": {
  "kernelspec": {
   "display_name": "TextProject",
   "language": "python",
   "name": "textproject"
  },
  "language_info": {
   "codemirror_mode": {
    "name": "ipython",
    "version": 3
   },
   "file_extension": ".py",
   "mimetype": "text/x-python",
   "name": "python",
   "nbconvert_exporter": "python",
   "pygments_lexer": "ipython3",
   "version": "3.5.4"
  }
 },
 "nbformat": 4,
 "nbformat_minor": 2
}
