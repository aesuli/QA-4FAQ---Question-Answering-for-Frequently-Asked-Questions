{
 "cells": [
  {
   "cell_type": "code",
   "execution_count": 9,
   "metadata": {},
   "outputs": [],
   "source": [
    "%matplotlib inline\n",
    "\n",
    "import os\n",
    "import sys\n",
    "import certifi\n",
    "import unicodedata\n",
    "import pandas as pd\n",
    "import numpy as np\n",
    "import re\n",
    "import csv\n",
    "import math\n",
    "from datetime import datetime\n",
    "import requests\n",
    "import time\n",
    "import scipy.stats as stats\n",
    "import matplotlib.pyplot as plt\n",
    "\n",
    "from collections import defaultdict\n",
    "from scipy.stats.stats import pearsonr"
   ]
  },
  {
   "cell_type": "markdown",
   "metadata": {},
   "source": [
    "# DATA PRE-PROCESSING\n",
    "Load csv file with answer and question. Create a new column with answer+question and drop column id and tag"
   ]
  },
  {
   "cell_type": "code",
   "execution_count": 10,
   "metadata": {},
   "outputs": [
    {
     "data": {
      "text/html": [
       "<div>\n",
       "<style scoped>\n",
       "    .dataframe tbody tr th:only-of-type {\n",
       "        vertical-align: middle;\n",
       "    }\n",
       "\n",
       "    .dataframe tbody tr th {\n",
       "        vertical-align: top;\n",
       "    }\n",
       "\n",
       "    .dataframe thead th {\n",
       "        text-align: right;\n",
       "    }\n",
       "</style>\n",
       "<table border=\"1\" class=\"dataframe\">\n",
       "  <thead>\n",
       "    <tr style=\"text-align: right;\">\n",
       "      <th></th>\n",
       "      <th>id</th>\n",
       "      <th>question</th>\n",
       "      <th>answer</th>\n",
       "      <th>tag</th>\n",
       "    </tr>\n",
       "  </thead>\n",
       "  <tbody>\n",
       "    <tr>\n",
       "      <th>0</th>\n",
       "      <td>182</td>\n",
       "      <td>Quale uso viene attribuito alla somministrazio...</td>\n",
       "      <td>Per richiedere un nuovo allacciamento è suffic...</td>\n",
       "      <td>uso, commerciale, domestico, allacciamento, so...</td>\n",
       "    </tr>\n",
       "    <tr>\n",
       "      <th>1</th>\n",
       "      <td>183</td>\n",
       "      <td>Qual è il numero per comunicare la lettura del...</td>\n",
       "      <td>Il numero per comunicare la lettura del contat...</td>\n",
       "      <td>contatore, autolettura, lettura, consumi, este...</td>\n",
       "    </tr>\n",
       "    <tr>\n",
       "      <th>2</th>\n",
       "      <td>184</td>\n",
       "      <td>A chi si deve intestare il contratto di acqua ...</td>\n",
       "      <td>L'intestatario del contratto deve coincidere c...</td>\n",
       "      <td>commerciale, domestico, fornitura, intestazion...</td>\n",
       "    </tr>\n",
       "    <tr>\n",
       "      <th>3</th>\n",
       "      <td>185</td>\n",
       "      <td>Cosa è il deposito cauzionale?</td>\n",
       "      <td>Il deposito cauzionale e una somma di denaro c...</td>\n",
       "      <td>deposito cauzionale, fattura, cauzione</td>\n",
       "    </tr>\n",
       "    <tr>\n",
       "      <th>4</th>\n",
       "      <td>186</td>\n",
       "      <td>Quale funzione ha l'Acquedotto?</td>\n",
       "      <td>Tramite il servizio di acquedotto l'acqua vien...</td>\n",
       "      <td>acqua, quota, acquedotto, distribuzione, funzione</td>\n",
       "    </tr>\n",
       "  </tbody>\n",
       "</table>\n",
       "</div>"
      ],
      "text/plain": [
       "    id                                           question  \\\n",
       "0  182  Quale uso viene attribuito alla somministrazio...   \n",
       "1  183  Qual è il numero per comunicare la lettura del...   \n",
       "2  184  A chi si deve intestare il contratto di acqua ...   \n",
       "3  185                     Cosa è il deposito cauzionale?   \n",
       "4  186                    Quale funzione ha l'Acquedotto?   \n",
       "\n",
       "                                              answer  \\\n",
       "0  Per richiedere un nuovo allacciamento è suffic...   \n",
       "1  Il numero per comunicare la lettura del contat...   \n",
       "2  L'intestatario del contratto deve coincidere c...   \n",
       "3  Il deposito cauzionale e una somma di denaro c...   \n",
       "4  Tramite il servizio di acquedotto l'acqua vien...   \n",
       "\n",
       "                                                 tag  \n",
       "0  uso, commerciale, domestico, allacciamento, so...  \n",
       "1  contatore, autolettura, lettura, consumi, este...  \n",
       "2  commerciale, domestico, fornitura, intestazion...  \n",
       "3             deposito cauzionale, fattura, cauzione  \n",
       "4  acqua, quota, acquedotto, distribuzione, funzione  "
      ]
     },
     "execution_count": 10,
     "metadata": {},
     "output_type": "execute_result"
    }
   ],
   "source": [
    "df = pd.read_csv(\"Dataset/faqs_uft8_QA.csv\", sep = \";\", encoding = 'utf8', quotechar = '\"')\n",
    "df.head()"
   ]
  },
  {
   "cell_type": "code",
   "execution_count": 11,
   "metadata": {},
   "outputs": [],
   "source": [
    "def substring(line):\n",
    "    car=line[-1]\n",
    "    if car!='.':\n",
    "        line=line+'.'\n",
    "    return line"
   ]
  },
  {
   "cell_type": "code",
   "execution_count": 12,
   "metadata": {},
   "outputs": [],
   "source": [
    "df['question'] = df['question'].map(lambda x:x.replace('?','').replace('\"','').replace('. ',''))\n",
    "df['answer'] = df['answer'].map(lambda x:x.replace('. ',' ').replace('\"','').replace('?',''))\n",
    "\n",
    "df['QA'] = df['question'] + ' ' + df['answer']\n",
    "df['Y'] = 1\n",
    "\n",
    "df['QA'] = df['QA'].map(lambda x:x.replace('?','').replace('\"','').replace('. ','').replace('. ',''))\n",
    "df['QA'] = df['QA'].map(lambda x:substring(x))"
   ]
  },
  {
   "cell_type": "code",
   "execution_count": 13,
   "metadata": {},
   "outputs": [
    {
     "data": {
      "text/html": [
       "<div>\n",
       "<style scoped>\n",
       "    .dataframe tbody tr th:only-of-type {\n",
       "        vertical-align: middle;\n",
       "    }\n",
       "\n",
       "    .dataframe tbody tr th {\n",
       "        vertical-align: top;\n",
       "    }\n",
       "\n",
       "    .dataframe thead th {\n",
       "        text-align: right;\n",
       "    }\n",
       "</style>\n",
       "<table border=\"1\" class=\"dataframe\">\n",
       "  <thead>\n",
       "    <tr style=\"text-align: right;\">\n",
       "      <th></th>\n",
       "      <th>id</th>\n",
       "      <th>question</th>\n",
       "      <th>answer</th>\n",
       "      <th>tag</th>\n",
       "      <th>QA</th>\n",
       "      <th>Y</th>\n",
       "    </tr>\n",
       "  </thead>\n",
       "  <tbody>\n",
       "    <tr>\n",
       "      <th>401</th>\n",
       "      <td>731</td>\n",
       "      <td>Cosa fare nel caso di fine locazione</td>\n",
       "      <td>Qualora il contratto di somministrazione del l...</td>\n",
       "      <td>affitto, subentro, voltura, recesso, cessazion...</td>\n",
       "      <td>Cosa fare nel caso di fine locazione Qualora i...</td>\n",
       "      <td>1</td>\n",
       "    </tr>\n",
       "    <tr>\n",
       "      <th>402</th>\n",
       "      <td>747</td>\n",
       "      <td>Come richiedere il bonus idrico 2016</td>\n",
       "      <td>L'Autorità Idrica Pugliese (AIP) al momento no...</td>\n",
       "      <td>bonus idrico</td>\n",
       "      <td>Come richiedere il bonus idrico 2016 L'Autorit...</td>\n",
       "      <td>1</td>\n",
       "    </tr>\n",
       "    <tr>\n",
       "      <th>403</th>\n",
       "      <td>748</td>\n",
       "      <td>Vorrei sapere se il deposito cauzionale viene ...</td>\n",
       "      <td>Quando si richiede un nuovo allacciamento dist...</td>\n",
       "      <td>multiplo, sdoppiamento</td>\n",
       "      <td>Vorrei sapere se il deposito cauzionale viene ...</td>\n",
       "      <td>1</td>\n",
       "    </tr>\n",
       "    <tr>\n",
       "      <th>404</th>\n",
       "      <td>749</td>\n",
       "      <td>Quale è il modello di dichiarazione per i dati...</td>\n",
       "      <td>Il modello per la dichiarazione dei dati catas...</td>\n",
       "      <td>concessione edilizia</td>\n",
       "      <td>Quale è il modello di dichiarazione per i dati...</td>\n",
       "      <td>1</td>\n",
       "    </tr>\n",
       "    <tr>\n",
       "      <th>405</th>\n",
       "      <td>750</td>\n",
       "      <td>Posso pagare le fatture in un unica soluzione</td>\n",
       "      <td>In questa circostanza si suggerisce di effettu...</td>\n",
       "      <td>fatture, pagamento, pagare, unica soluzione</td>\n",
       "      <td>Posso pagare le fatture in un unica soluzione ...</td>\n",
       "      <td>1</td>\n",
       "    </tr>\n",
       "  </tbody>\n",
       "</table>\n",
       "</div>"
      ],
      "text/plain": [
       "      id                                           question  \\\n",
       "401  731               Cosa fare nel caso di fine locazione   \n",
       "402  747               Come richiedere il bonus idrico 2016   \n",
       "403  748  Vorrei sapere se il deposito cauzionale viene ...   \n",
       "404  749  Quale è il modello di dichiarazione per i dati...   \n",
       "405  750      Posso pagare le fatture in un unica soluzione   \n",
       "\n",
       "                                                answer  \\\n",
       "401  Qualora il contratto di somministrazione del l...   \n",
       "402  L'Autorità Idrica Pugliese (AIP) al momento no...   \n",
       "403  Quando si richiede un nuovo allacciamento dist...   \n",
       "404  Il modello per la dichiarazione dei dati catas...   \n",
       "405  In questa circostanza si suggerisce di effettu...   \n",
       "\n",
       "                                                   tag  \\\n",
       "401  affitto, subentro, voltura, recesso, cessazion...   \n",
       "402                                       bonus idrico   \n",
       "403                             multiplo, sdoppiamento   \n",
       "404                               concessione edilizia   \n",
       "405        fatture, pagamento, pagare, unica soluzione   \n",
       "\n",
       "                                                    QA  Y  \n",
       "401  Cosa fare nel caso di fine locazione Qualora i...  1  \n",
       "402  Come richiedere il bonus idrico 2016 L'Autorit...  1  \n",
       "403  Vorrei sapere se il deposito cauzionale viene ...  1  \n",
       "404  Quale è il modello di dichiarazione per i dati...  1  \n",
       "405  Posso pagare le fatture in un unica soluzione ...  1  "
      ]
     },
     "execution_count": 13,
     "metadata": {},
     "output_type": "execute_result"
    }
   ],
   "source": [
    "df.tail()"
   ]
  },
  {
   "cell_type": "code",
   "execution_count": 14,
   "metadata": {},
   "outputs": [
    {
     "data": {
      "text/html": [
       "<div>\n",
       "<style scoped>\n",
       "    .dataframe tbody tr th:only-of-type {\n",
       "        vertical-align: middle;\n",
       "    }\n",
       "\n",
       "    .dataframe tbody tr th {\n",
       "        vertical-align: top;\n",
       "    }\n",
       "\n",
       "    .dataframe thead th {\n",
       "        text-align: right;\n",
       "    }\n",
       "</style>\n",
       "<table border=\"1\" class=\"dataframe\">\n",
       "  <thead>\n",
       "    <tr style=\"text-align: right;\">\n",
       "      <th></th>\n",
       "      <th>question</th>\n",
       "      <th>answer</th>\n",
       "      <th>QA</th>\n",
       "      <th>Y</th>\n",
       "    </tr>\n",
       "  </thead>\n",
       "  <tbody>\n",
       "    <tr>\n",
       "      <th>0</th>\n",
       "      <td>Quale uso viene attribuito alla somministrazio...</td>\n",
       "      <td>Per richiedere un nuovo allacciamento è suffic...</td>\n",
       "      <td>Quale uso viene attribuito alla somministrazio...</td>\n",
       "      <td>1</td>\n",
       "    </tr>\n",
       "    <tr>\n",
       "      <th>1</th>\n",
       "      <td>Qual è il numero per comunicare la lettura del...</td>\n",
       "      <td>Il numero per comunicare la lettura del contat...</td>\n",
       "      <td>Qual è il numero per comunicare la lettura del...</td>\n",
       "      <td>1</td>\n",
       "    </tr>\n",
       "    <tr>\n",
       "      <th>2</th>\n",
       "      <td>A chi si deve intestare il contratto di acqua ...</td>\n",
       "      <td>L'intestatario del contratto deve coincidere c...</td>\n",
       "      <td>A chi si deve intestare il contratto di acqua ...</td>\n",
       "      <td>1</td>\n",
       "    </tr>\n",
       "    <tr>\n",
       "      <th>3</th>\n",
       "      <td>Cosa è il deposito cauzionale</td>\n",
       "      <td>Il deposito cauzionale e una somma di denaro c...</td>\n",
       "      <td>Cosa è il deposito cauzionale Il deposito cauz...</td>\n",
       "      <td>1</td>\n",
       "    </tr>\n",
       "    <tr>\n",
       "      <th>4</th>\n",
       "      <td>Quale funzione ha l'Acquedotto</td>\n",
       "      <td>Tramite il servizio di acquedotto l'acqua vien...</td>\n",
       "      <td>Quale funzione ha l'Acquedotto Tramite il serv...</td>\n",
       "      <td>1</td>\n",
       "    </tr>\n",
       "  </tbody>\n",
       "</table>\n",
       "</div>"
      ],
      "text/plain": [
       "                                            question  \\\n",
       "0  Quale uso viene attribuito alla somministrazio...   \n",
       "1  Qual è il numero per comunicare la lettura del...   \n",
       "2  A chi si deve intestare il contratto di acqua ...   \n",
       "3                      Cosa è il deposito cauzionale   \n",
       "4                     Quale funzione ha l'Acquedotto   \n",
       "\n",
       "                                              answer  \\\n",
       "0  Per richiedere un nuovo allacciamento è suffic...   \n",
       "1  Il numero per comunicare la lettura del contat...   \n",
       "2  L'intestatario del contratto deve coincidere c...   \n",
       "3  Il deposito cauzionale e una somma di denaro c...   \n",
       "4  Tramite il servizio di acquedotto l'acqua vien...   \n",
       "\n",
       "                                                  QA  Y  \n",
       "0  Quale uso viene attribuito alla somministrazio...  1  \n",
       "1  Qual è il numero per comunicare la lettura del...  1  \n",
       "2  A chi si deve intestare il contratto di acqua ...  1  \n",
       "3  Cosa è il deposito cauzionale Il deposito cauz...  1  \n",
       "4  Quale funzione ha l'Acquedotto Tramite il serv...  1  "
      ]
     },
     "execution_count": 14,
     "metadata": {},
     "output_type": "execute_result"
    }
   ],
   "source": [
    "#DROP TWO COLUMNS ID AND TAG\n",
    "df = df.drop([\"id\",\"tag\"], axis = 1)\n",
    "df.head()"
   ]
  },
  {
   "cell_type": "code",
   "execution_count": 8,
   "metadata": {},
   "outputs": [],
   "source": [
    "df.to_csv(\"Dataset/QA.txt\", header = False, encoding = 'utf-8', index = None, mode =\"w\")"
   ]
  },
  {
   "cell_type": "markdown",
   "metadata": {},
   "source": [
    "# QUESTION TEST PRE - PROCESSING"
   ]
  },
  {
   "cell_type": "code",
   "execution_count": 8,
   "metadata": {},
   "outputs": [
    {
     "data": {
      "text/html": [
       "<div>\n",
       "<style scoped>\n",
       "    .dataframe tbody tr th:only-of-type {\n",
       "        vertical-align: middle;\n",
       "    }\n",
       "\n",
       "    .dataframe tbody tr th {\n",
       "        vertical-align: top;\n",
       "    }\n",
       "\n",
       "    .dataframe thead th {\n",
       "        text-align: right;\n",
       "    }\n",
       "</style>\n",
       "<table border=\"1\" class=\"dataframe\">\n",
       "  <thead>\n",
       "    <tr style=\"text-align: right;\">\n",
       "      <th></th>\n",
       "      <th>id</th>\n",
       "      <th>question-test</th>\n",
       "    </tr>\n",
       "  </thead>\n",
       "  <tbody>\n",
       "    <tr>\n",
       "      <th>0</th>\n",
       "      <td>1</td>\n",
       "      <td>come posso pagare la bolletta?</td>\n",
       "    </tr>\n",
       "    <tr>\n",
       "      <th>1</th>\n",
       "      <td>2</td>\n",
       "      <td>cos'è il deposito cauzionale?</td>\n",
       "    </tr>\n",
       "    <tr>\n",
       "      <th>2</th>\n",
       "      <td>3</td>\n",
       "      <td>ho bisogno di aiuto</td>\n",
       "    </tr>\n",
       "  </tbody>\n",
       "</table>\n",
       "</div>"
      ],
      "text/plain": [
       "   id                   question-test\n",
       "0   1  come posso pagare la bolletta?\n",
       "1   2   cos'è il deposito cauzionale?\n",
       "2   3             ho bisogno di aiuto"
      ]
     },
     "execution_count": 8,
     "metadata": {},
     "output_type": "execute_result"
    }
   ],
   "source": [
    "df2 = pd.read_csv(\"Dataset/test-question.csv\", sep = \";\", encoding = 'utf8')\n",
    "df2.head()"
   ]
  },
  {
   "cell_type": "code",
   "execution_count": 9,
   "metadata": {},
   "outputs": [
    {
     "data": {
      "text/html": [
       "<div>\n",
       "<style scoped>\n",
       "    .dataframe tbody tr th:only-of-type {\n",
       "        vertical-align: middle;\n",
       "    }\n",
       "\n",
       "    .dataframe tbody tr th {\n",
       "        vertical-align: top;\n",
       "    }\n",
       "\n",
       "    .dataframe thead th {\n",
       "        text-align: right;\n",
       "    }\n",
       "</style>\n",
       "<table border=\"1\" class=\"dataframe\">\n",
       "  <thead>\n",
       "    <tr style=\"text-align: right;\">\n",
       "      <th></th>\n",
       "      <th>question-test</th>\n",
       "    </tr>\n",
       "  </thead>\n",
       "  <tbody>\n",
       "    <tr>\n",
       "      <th>0</th>\n",
       "      <td>come posso pagare la bolletta?</td>\n",
       "    </tr>\n",
       "    <tr>\n",
       "      <th>1</th>\n",
       "      <td>cos'è il deposito cauzionale?</td>\n",
       "    </tr>\n",
       "    <tr>\n",
       "      <th>2</th>\n",
       "      <td>ho bisogno di aiuto</td>\n",
       "    </tr>\n",
       "  </tbody>\n",
       "</table>\n",
       "</div>"
      ],
      "text/plain": [
       "                    question-test\n",
       "0  come posso pagare la bolletta?\n",
       "1   cos'è il deposito cauzionale?\n",
       "2             ho bisogno di aiuto"
      ]
     },
     "execution_count": 9,
     "metadata": {},
     "output_type": "execute_result"
    }
   ],
   "source": [
    "df2 = df2.drop([\"id\"], axis = 1)\n",
    "df2.head()"
   ]
  },
  {
   "cell_type": "markdown",
   "metadata": {},
   "source": [
    "# TOKENIZER"
   ]
  },
  {
   "cell_type": "code",
   "execution_count": null,
   "metadata": {},
   "outputs": [],
   "source": [
    "def fileCreator(filename, data):\n",
    "    f = open(filename, \"w\")\n",
    "    f.write(data)\n",
    "    f.close()"
   ]
  },
  {
   "cell_type": "code",
   "execution_count": null,
   "metadata": {},
   "outputs": [],
   "source": [
    "def callAPI(filename, token, email):\n",
    "    f = open(filename)\n",
    "    data = {'token': token, 'service':'tok', 'email':email, 'authentication':'google', 'format':'plain'}\n",
    "    r = requests.post(url='http://tanl.di.unipi.it/it/api', data=data, files = {'file':f})\n",
    "    f.close()\n",
    "    out = open(filename, \"w\")\n",
    "    #print (r.text.encode('utf-8'))\n",
    "    out.write(r.text)\n",
    "    out.close()"
   ]
  },
  {
   "cell_type": "code",
   "execution_count": null,
   "metadata": {},
   "outputs": [],
   "source": [
    "def processingResponse(filename, gen):\n",
    "    with open(filename) as f:\n",
    "        line = f.readline()\n",
    "        ar = []\n",
    "        while line:\n",
    "            print(line)\n",
    "            item = str(line)\n",
    "            item = re.sub('\\n$', '', item)\n",
    "            item = re.sub('\\.$', '', item)\n",
    "            if (item != ''):\n",
    "                ar.append(item)\n",
    "            line = f.readline()\n",
    "        gen.append(ar)\n",
    "    f.close()"
   ]
  },
  {
   "cell_type": "code",
   "execution_count": null,
   "metadata": {},
   "outputs": [],
   "source": [
    "def cleaning(gen):\n",
    "    for elem in gen:\n",
    "        for e in elem:\n",
    "            if(e == \"\"):\n",
    "                elem.remove(e)"
   ]
  },
  {
   "cell_type": "code",
   "execution_count": null,
   "metadata": {},
   "outputs": [],
   "source": [
    "#http://tanl.di.unipi.it/it/overview.html\n",
    "token = ''\n",
    "email = ''\n",
    "\n",
    "X = [] #Question\n",
    "Y = [] #Answer\n",
    "Z = [] #Question+Answer\n",
    "T = [] #Test\n",
    "\n",
    "full=[] #Question+Answer+QuestionTest\n",
    "\n",
    "for (idx,row) in df2.iterrows():\n",
    "#for (idx,row) in df.iterrows():\n",
    "    #For each row Q+A\n",
    "    #data1 = row.loc['answer']\n",
    "    #data2 = row.loc['QA']\n",
    "    #data3 = row.loc['question']\n",
    "    dataTest = row.loc[\"question-test\"]\n",
    "    \n",
    "    #create file for TANL\n",
    "    fileCreator(\"toTokenizerQTest.txt\", dataTest)\n",
    "    #fileCreator(\"toTokenizerQA.txt\", data2)\n",
    "    #fileCreator(\"toTokenizerOnlyA.txt\", data1)\n",
    "    #fileCreator(\"toTokenizerOnlyQ.txt\", data3)\n",
    "    \n",
    "    #call API - return tokenized\n",
    "    #callAPI(\"toTokenizerQA.txt\",token, email)\n",
    "    #callAPI(\"toTokenizerOnlyA.txt\",token, email)\n",
    "    #callAPI(\"toTokenizerOnlyQ.txt\",token, email)\n",
    "    callAPI(\"toTokenizerQTest.txt\",token, email)\n",
    "    \n",
    "    #response manipulate\n",
    "    processingResponse(\"toTokenizerQTest.txt\", T)\n",
    "    #processingResponse(\"toTokenizerQA.txt\", Z)\n",
    "    #processingResponse(\"toTokenizerOnlyA.txt\", Y)\n",
    "    #processingResponse(\"toTokenizerOnlyQ.txt\", X)\n",
    "    #cleaning\n",
    "    full.extend(Z)\n",
    "    full.extend(T)\n",
    "    #cleaning(X)\n",
    "    #cleaning(Y)\n",
    "    #cleaning(Z)\n",
    "    cleaning(T)\n",
    "    #Sleep to avoid block request\n",
    "    print (\"SLEEP\")\n",
    "    time.sleep(5)\n"
   ]
  },
  {
   "cell_type": "code",
   "execution_count": null,
   "metadata": {},
   "outputs": [],
   "source": [
    "#QUESTIONS\n",
    "with open(\"tokenizerQuestion.txt\", \"w\") as f:\n",
    "    for elem in X:\n",
    "        f.write(\"[\\n\")\n",
    "        for item in elem:\n",
    "            item = str(item)\n",
    "            f.write(item + \"\\n\")\n",
    "        print (elem)\n",
    "        f.write(\"]\\n\")\n",
    "    f.close()"
   ]
  },
  {
   "cell_type": "code",
   "execution_count": null,
   "metadata": {},
   "outputs": [],
   "source": [
    "#ANSWERS\n",
    "with open(\"tokenizerAnswer.txt\", \"w\") as f:\n",
    "    for elem in Y:\n",
    "        f.write(\"[\\n\")\n",
    "        for item in elem:\n",
    "            item = str(item)\n",
    "            f.write(item + \"\\n\")\n",
    "        print (elem)\n",
    "        f.write(\"]\\n\")\n",
    "    f.close()"
   ]
  },
  {
   "cell_type": "code",
   "execution_count": null,
   "metadata": {},
   "outputs": [],
   "source": [
    "#QUESTIONS+ANSWERS\n",
    "with open(\"tokenizerQuestionAnswer.txt\", \"w\") as f:\n",
    "    for elem in Z:\n",
    "        f.write(\"[\\n\")\n",
    "        for item in elem:\n",
    "            item = str(item)\n",
    "            f.write(item + \"\\n\")\n",
    "        print (elem)\n",
    "        f.write(\"]\\n\")\n",
    "    f.close()"
   ]
  },
  {
   "cell_type": "code",
   "execution_count": null,
   "metadata": {},
   "outputs": [],
   "source": [
    "#QUESTIONS TEST\n",
    "with open(\"tokenizerQTest.txt\", \"w\") as f:\n",
    "    for elem in T:\n",
    "        f.write(\"[\\n\")\n",
    "        for item in elem:\n",
    "            item = str(item)\n",
    "            f.write(item + \"\\n\")\n",
    "        print (elem)\n",
    "        f.write(\"]\\n\")\n",
    "    f.close()"
   ]
  },
  {
   "cell_type": "markdown",
   "metadata": {},
   "source": [
    "# GENSIM W2V"
   ]
  },
  {
   "cell_type": "code",
   "execution_count": 15,
   "metadata": {},
   "outputs": [
    {
     "ename": "ImportError",
     "evalue": "No module named gensim",
     "output_type": "error",
     "traceback": [
      "\u001b[0;31m---------------------------------------------------------------------------\u001b[0m",
      "\u001b[0;31mImportError\u001b[0m                               Traceback (most recent call last)",
      "\u001b[0;32m<ipython-input-15-c7700ad96735>\u001b[0m in \u001b[0;36m<module>\u001b[0;34m()\u001b[0m\n\u001b[1;32m      1\u001b[0m \u001b[0;31m#Word to Vect\u001b[0m\u001b[0;34m\u001b[0m\u001b[0;34m\u001b[0m\u001b[0m\n\u001b[1;32m      2\u001b[0m \u001b[0;31m# import modules & set up logging\u001b[0m\u001b[0;34m\u001b[0m\u001b[0;34m\u001b[0m\u001b[0m\n\u001b[0;32m----> 3\u001b[0;31m \u001b[0;32mimport\u001b[0m \u001b[0mgensim\u001b[0m\u001b[0;34m,\u001b[0m \u001b[0mlogging\u001b[0m\u001b[0;34m\u001b[0m\u001b[0m\n\u001b[0m\u001b[1;32m      4\u001b[0m \u001b[0mlogging\u001b[0m\u001b[0;34m.\u001b[0m\u001b[0mbasicConfig\u001b[0m\u001b[0;34m(\u001b[0m\u001b[0mformat\u001b[0m\u001b[0;34m=\u001b[0m\u001b[0;34m'%(asctime)s : %(levelname)s : %(message)s'\u001b[0m\u001b[0;34m,\u001b[0m \u001b[0mlevel\u001b[0m\u001b[0;34m=\u001b[0m\u001b[0mlogging\u001b[0m\u001b[0;34m.\u001b[0m\u001b[0mINFO\u001b[0m\u001b[0;34m)\u001b[0m\u001b[0;34m\u001b[0m\u001b[0m\n\u001b[1;32m      5\u001b[0m \u001b[0;34m\u001b[0m\u001b[0m\n",
      "\u001b[0;31mImportError\u001b[0m: No module named gensim"
     ]
    }
   ],
   "source": [
    "#Word to Vect\n",
    "# import modules & set up logging\n",
    "import gensim, logging\n",
    "logging.basicConfig(format='%(asctime)s : %(levelname)s : %(message)s', level=logging.INFO)\n",
    " \n",
    "# train word2vec \n",
    "iterN = 10 #how many times the training code will run through the data set to train \n",
    "#the neural network (kind of like the number of training epochs).\n",
    "mc = 1 #specifies the minimum amount of times that the word has to appear in the corpus \n",
    "#before it is included in the vocabulary – this allows us to easily eliminate rare words \n",
    "#and reduce our vocabulary size\n",
    "s = 200 #In other words, each word in our vocabulary, after training, will be represented \n",
    "#by a 200 length word vector.\n",
    "job = 4 #parallel workers we would like to work on the data – this will speed up the training process\n",
    "window = 5 #contorno di 5 parole (default)\n",
    "\n",
    "#full\n",
    "modelFull = gensim.models.Word2Vec(full, iter = iterN, min_count=mc, size = s)"
   ]
  },
  {
   "cell_type": "code",
   "execution_count": null,
   "metadata": {},
   "outputs": [],
   "source": [
    "#save w2v model\n",
    "modelFull.save('model/mymodelFull')\n",
    "#load w2v model\n",
    "#new_model = gensim.models.Word2Vec.load('/tmp/mymodel')"
   ]
  },
  {
   "cell_type": "code",
   "execution_count": null,
   "metadata": {},
   "outputs": [],
   "source": [
    "modelFull.most_similar(['n335', 'posso', 'bolletta'])"
   ]
  },
  {
   "cell_type": "code",
   "execution_count": null,
   "metadata": {},
   "outputs": [],
   "source": [
    "modelFull.wv.syn0[1]"
   ]
  },
  {
   "cell_type": "code",
   "execution_count": null,
   "metadata": {},
   "outputs": [],
   "source": [
    "# some similarity fun\n",
    "print(modelFull.wv.similarity('come', 'bolletta'))"
   ]
  },
  {
   "cell_type": "code",
   "execution_count": null,
   "metadata": {},
   "outputs": [],
   "source": [
    "# get the most common words\n",
    "print(modelFull.wv.index2word[0], modelFull.wv.index2word[1], modelFull.wv.index2word[2])"
   ]
  },
  {
   "cell_type": "code",
   "execution_count": null,
   "metadata": {},
   "outputs": [],
   "source": [
    "# get the least common words\n",
    "vocab_size = len(modelFull.wv.vocab)\n",
    "print(modelFull.wv.index2word[vocab_size - 1],modelFull.wv.index2word[vocab_size - 2], modelFull.wv.index2word[vocab_size - 3])"
   ]
  }
 ],
 "metadata": {
  "kernelspec": {
   "display_name": "Python 3",
   "language": "python",
   "name": "python3"
  },
  "language_info": {
   "codemirror_mode": {
    "name": "ipython",
    "version": 2
   },
   "file_extension": ".py",
   "mimetype": "text/x-python",
   "name": "python",
   "nbconvert_exporter": "python",
   "pygments_lexer": "ipython2",
   "version": "2.7.12"
  }
 },
 "nbformat": 4,
 "nbformat_minor": 2
}
